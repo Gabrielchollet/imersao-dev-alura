{
  "nbformat": 4,
  "nbformat_minor": 0,
  "metadata": {
    "colab": {
      "name": "Aula01.ipynb",
      "provenance": [],
      "authorship_tag": "ABX9TyNPM+/oPAA9pawcXv6C4U4x",
      "include_colab_link": true
    },
    "kernelspec": {
      "name": "python3",
      "display_name": "Python 3"
    },
    "language_info": {
      "name": "python"
    }
  },
  "cells": [
    {
      "cell_type": "markdown",
      "metadata": {
        "id": "view-in-github",
        "colab_type": "text"
      },
      "source": [
        "<a href=\"https://colab.research.google.com/github/Gabrielchollet/imersao-dev-alura/blob/main/Aula01.ipynb\" target=\"_parent\"><img src=\"https://colab.research.google.com/assets/colab-badge.svg\" alt=\"Open In Colab\"/></a>"
      ]
    },
    {
      "cell_type": "markdown",
      "metadata": {
        "id": "gIUf656IynmQ"
      },
      "source": [
        "# Olá\n",
        "Hoje, iniciaremos o estudo de Data Science com uma abordagem que não se limita ao mundo da ciência computação. \n",
        "\n",
        "Nós desenvolveremos nosso projeto aqui no google colaboratory (serviço de nuvem gratuito hospedado pelo Google para incentivar a pesquisa de Aprendizado de Máquina e Inteligência Artificial), assim podemos mesclar células contendo textos em formato markdown e células de código, além disso você não precisa instalar nada na sua máquina. Então, que tal começar testando algumas linhas de código?\n",
        "\n",
        "No campo abaixo temos o que chamamos de célula. Na célula podemos digitar textos, cálculos e códigos.\n",
        "\n",
        "Após a intrudução do contéudo desejado na célula, executaremos-a e notemos que há uma certa demora e isso ocorre porque o google está alocando uma máquina virtual para nós utilizarmos.\n",
        "\n"
      ]
    },
    {
      "cell_type": "markdown",
      "metadata": {
        "id": "zycDkp2hQk6v"
      },
      "source": [
        "##Os notebooks apresentam um funcionamento em que ao colocar o nome de uma variável ou alguma operação direto na linha de comando, ele mostra seu valor, não necessitando aplicar o '*print*'.\n",
        "##Porém para algumas variávei a aplicação do *print*(var) dará outras informações sobre o objeto da variável."
      ]
    },
    {
      "cell_type": "code",
      "metadata": {
        "colab": {
          "base_uri": "https://localhost:8080/"
        },
        "id": "lvj1Dok7Qkf7",
        "outputId": "333647a5-23dd-4462-eafa-9ebc06ad788e"
      },
      "source": [
        "#Aplicando apenas a operação direto na linha de comando\n",
        "5 + 5"
      ],
      "execution_count": 1,
      "outputs": [
        {
          "output_type": "execute_result",
          "data": {
            "text/plain": [
              "10"
            ]
          },
          "metadata": {
            "tags": []
          },
          "execution_count": 1
        }
      ]
    },
    {
      "cell_type": "code",
      "metadata": {
        "colab": {
          "base_uri": "https://localhost:8080/"
        },
        "id": "4HptnfiZRJhJ",
        "outputId": "a4f98fc7-e9a4-414d-d05c-c69c5234e966"
      },
      "source": [
        "##Usando a função 'print()' obtemos o mesmo resultado, mas usando print podemos imprimir mais de uma\n",
        "# coisa na tela, enquanto que colocando apenas a operação, teríamos apenas imprimido o último,\n",
        "#lembrando que a função 'type(var)' volta o tipo da variável.\n",
        "print(5 + 5)\n",
        "print(type(5 + 5))\n",
        "5 + 5\n",
        "type(5 + 5)"
      ],
      "execution_count": 3,
      "outputs": [
        {
          "output_type": "stream",
          "text": [
            "10\n",
            "<class 'int'>\n"
          ],
          "name": "stdout"
        },
        {
          "output_type": "execute_result",
          "data": {
            "text/plain": [
              "int"
            ]
          },
          "metadata": {
            "tags": []
          },
          "execution_count": 3
        }
      ]
    },
    {
      "cell_type": "markdown",
      "metadata": {
        "id": "YCh-UHwvOdma"
      },
      "source": [
        "###Desafio 01: Investigar por que a classe tratamento é tão desbalanceada? \n",
        "\n",
        "###Desafio 02: Plotar as 05 últimas linhas do Data Frame.\n",
        "Resposta: DataFrame.tail();\n",
        "\n",
        "###Desafio 03: Calcular a proporção das classes tratamento.\n",
        "Resposta: series.value_counts(normalize=True)\n",
        "#####Com *normalize* configurado para *True*, retorna a frequência relativa dividindo todos os valores pela soma dos valores.\n",
        "\n",
        "###Desafio 04: Quantos tipos de drogas foram investigados?\n",
        "Resposta: 3289\n",
        "\n",
        "###Desafio 05: Procurar na documentação o método query(pandas).\n",
        "\n",
        "###Desafio 06: Deixar os gráficos bonitões. (Matplotlib.pyplot).\n",
        "\n",
        "###Desafio 07: Renomear as colunas tirando o hífen.\n",
        "\n",
        "###Desafio 08: Resumo do que aprendeu com os dados."
      ]
    }
  ]
}